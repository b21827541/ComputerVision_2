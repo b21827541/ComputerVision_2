{
 "cells": [
  {
   "cell_type": "code",
   "execution_count": 1,
   "metadata": {},
   "outputs": [],
   "source": [
    "%matplotlib inline\n",
    "import matplotlib.pyplot as plt"
   ]
  },
  {
   "cell_type": "code",
   "execution_count": 2,
   "metadata": {
    "id": "xqmghgL8ZgBg"
   },
   "outputs": [],
   "source": [
    "from PIL import Image"
   ]
  },
  {
   "cell_type": "code",
   "execution_count": 3,
   "metadata": {
    "id": "c5Ry00zuZf-H"
   },
   "outputs": [],
   "source": [
    "import numpy as np"
   ]
  },
  {
   "cell_type": "code",
   "execution_count": 4,
   "metadata": {
    "id": "nj0Q6_HVavE9"
   },
   "outputs": [],
   "source": [
    "import os\n",
    "from glob import glob"
   ]
  },
  {
   "cell_type": "code",
   "execution_count": 5,
   "metadata": {},
   "outputs": [],
   "source": [
    "from sklearn.metrics import confusion_matrix"
   ]
  },
  {
   "cell_type": "code",
   "execution_count": 6,
   "metadata": {},
   "outputs": [],
   "source": [
    "import shutil"
   ]
  },
  {
   "cell_type": "code",
   "execution_count": 7,
   "metadata": {},
   "outputs": [],
   "source": [
    "import sys"
   ]
  },
  {
   "cell_type": "code",
   "execution_count": 8,
   "metadata": {
    "id": "WgzT8s9watcc"
   },
   "outputs": [],
   "source": [
    "def get_image_paths(data_path, categories, num_train_per_cat):\n",
    "    num_categories = len(categories)\n",
    "\n",
    "    train_image_paths = []\n",
    "    test_image_paths = []\n",
    "\n",
    "    train_labels = []\n",
    "    test_labels = []\n",
    "\n",
    "    for category in categories:\n",
    "\n",
    "        image_paths = glob(os.path.join(data_path, 'train', category, '*.jpg'))\n",
    "        \n",
    "        for i in range(num_train_per_cat):\n",
    "            train_image_paths.append(image_paths[i])\n",
    "            train_labels.append(category)\n",
    "\n",
    "        image_paths = glob(os.path.join(data_path, 'test', category, '*.jpg'))\n",
    "        for i in range(num_train_per_cat):\n",
    "            test_image_paths.append(image_paths[i])\n",
    "            test_labels.append(category)\n",
    "\n",
    "    return train_image_paths, test_image_paths, train_labels, test_labels"
   ]
  },
  {
   "cell_type": "code",
   "execution_count": 9,
   "metadata": {
    "id": "csGydCsaZm35"
   },
   "outputs": [],
   "source": [
    "def get_tiny_images(image_paths):\n",
    "    \n",
    "    height = 16\n",
    "    width = 16\n",
    "    \n",
    "    tiny_images = np.zeros((len(image_paths), width*height))\n",
    "    \n",
    "    for i, image_data in enumerate(image_paths):\n",
    "        \n",
    "        image = Image.open(image_data)\n",
    "        image_re = np.asarray(image.resize((width,height), Image.ANTIALIAS), dtype = 'float32').flatten()\n",
    "        image_nm = (image_re - np.mean(image_re))/np.std(image_re)\n",
    "        tiny_images[i,:] = image_nm\n",
    "        \n",
    "    return tiny_images"
   ]
  },
  {
   "cell_type": "code",
   "execution_count": 10,
   "metadata": {},
   "outputs": [],
   "source": [
    "DATA_PATH = 'C:\\\\Users\\\\white power\\\\Desktop\\\\test_python\\\\SceneDataset\\\\'"
   ]
  },
  {
   "cell_type": "code",
   "execution_count": 11,
   "metadata": {
    "id": "hEwyO1wjbCrM"
   },
   "outputs": [],
   "source": [
    "CATEGORIES = ['Kitchen', 'Bedroom', 'LivingRoom', 'Office', 'Highway', 'Mountain']"
   ]
  },
  {
   "cell_type": "code",
   "execution_count": 12,
   "metadata": {},
   "outputs": [],
   "source": [
    "ABBR_CATEGORIES = ['Kit', 'Bed', 'Liv', 'Off', 'HW', 'Mnt']"
   ]
  },
  {
   "cell_type": "code",
   "execution_count": 13,
   "metadata": {
    "id": "2xtbfa9zbeg-"
   },
   "outputs": [],
   "source": [
    "NUM_TRAIN_PER_CAT = 100"
   ]
  },
  {
   "cell_type": "code",
   "execution_count": 14,
   "metadata": {
    "id": "8qE_sSD3yVGa"
   },
   "outputs": [],
   "source": [
    "CATE2ID = {v: k for k, v in enumerate(CATEGORIES)}"
   ]
  },
  {
   "cell_type": "code",
   "execution_count": 15,
   "metadata": {
    "id": "mt_c22D9a6Nt"
   },
   "outputs": [],
   "source": [
    "train_image_paths, test_image_paths, train_labels, test_labels = get_image_paths(DATA_PATH, CATEGORIES, NUM_TRAIN_PER_CAT)"
   ]
  },
  {
   "cell_type": "markdown",
   "metadata": {
    "id": "u70_cathxa1G"
   },
   "source": [
    "create Tiny Image features here. \n"
   ]
  },
  {
   "cell_type": "code",
   "execution_count": 16,
   "metadata": {
    "id": "osvQiuBtY1GN"
   },
   "outputs": [],
   "source": [
    "train_image_feats = get_tiny_images(train_image_paths)\n",
    "test_image_feats = get_tiny_images(test_image_paths)"
   ]
  },
  {
   "cell_type": "markdown",
   "metadata": {
    "id": "DsH7S4UuxwGl"
   },
   "source": [
    "The K-Nearest Neighbour classifier "
   ]
  },
  {
   "cell_type": "code",
   "execution_count": 17,
   "metadata": {
    "id": "A4ZcAPG5xv8C"
   },
   "outputs": [],
   "source": [
    "import scipy.spatial.distance as distance\n",
    "import operator\n",
    "\n",
    "def nearest_neighbor_classify(train_image_feats, train_labels, test_image_feats):\n",
    "    k = 13\n",
    "    test_predicts = []\n",
    "    dist = distance.cdist(train_image_feats, test_image_feats, 'euclidean')\n",
    "    \n",
    "    for i in range(dist.shape[1]):\n",
    "        ans = np.argsort(dist[:,i])\n",
    "        nn = dict()\n",
    "        #print(ans)\n",
    "        for j in range(k):\n",
    "            if train_labels[ans[j]] in nn.keys():\n",
    "                nn[train_labels[ans[j]]] += 1\n",
    "            else :\n",
    "                nn[train_labels[ans[j]]] = 1\n",
    " \n",
    "        snn = sorted(nn.items(), key = operator.itemgetter(1), reverse=True)\n",
    "        test_predicts.append(snn[0][0])\n",
    "    \n",
    "    return test_predicts"
   ]
  },
  {
   "cell_type": "markdown",
   "metadata": {
    "id": "MPgSHNBpznO5"
   },
   "source": [
    "The SVM classifier "
   ]
  },
  {
   "cell_type": "code",
   "execution_count": 18,
   "metadata": {
    "id": "t1jLbmE-zbpN"
   },
   "outputs": [],
   "source": [
    "from sklearn import preprocessing\n",
    "from sklearn.svm import LinearSVC\n",
    "from sklearn.svm import SVC\n",
    "from sklearn.model_selection import cross_val_score\n",
    "from sklearn.pipeline import Pipeline\n",
    "from sklearn.model_selection import GridSearchCV\n",
    "\n",
    "def svm_classify(train_image_feats, train_labels, test_image_feats):\n",
    "    svc = SVC(random_state=0)\n",
    "    param_C = [0.001 , 0.01 , 0.1, 1.0, 10.0, 100.0, 1000.0, 10000.0]\n",
    "    param_gamma = [0.00001, 0.0001, 0.001, 0.01, 0.1, 1.0]\n",
    "    param_grid = [{'C': param_C,\n",
    "                   'gamma': param_gamma,\n",
    "                   'kernel': ['rbf']}]\n",
    "\n",
    "    gs = GridSearchCV(estimator = svc,\n",
    "                      param_grid= param_grid,\n",
    "                      scoring='accuracy',\n",
    "                     )\n",
    "    \n",
    "    gs = gs.fit(train_image_feats, train_labels)\n",
    "        \n",
    "    classifier = gs.best_estimator_\n",
    "    classifier.fit(train_image_feats, train_labels)\n",
    "    \n",
    "    \n",
    "    pred_label = classifier.predict(test_image_feats)\n",
    "    return pred_label"
   ]
  },
  {
   "cell_type": "markdown",
   "metadata": {},
   "source": [
    "Compute and plot confusion matrix, utility functions "
   ]
  },
  {
   "cell_type": "code",
   "execution_count": 19,
   "metadata": {},
   "outputs": [],
   "source": [
    "def plot_confusion_matrix(cm, category, title='Confusion matrix', cmap=plt.cm.Blues):\n",
    "    plt.imshow(cm, interpolation='nearest', cmap=cmap)\n",
    "    plt.title(title)\n",
    "    plt.colorbar()\n",
    "    tick_marks = np.arange(len(category))\n",
    "    plt.xticks(tick_marks, category, rotation=45)\n",
    "    plt.yticks(tick_marks, category)\n",
    "    plt.tight_layout()\n",
    "    plt.ylabel('True label')\n",
    "    plt.xlabel('Predicted label')"
   ]
  },
  {
   "cell_type": "code",
   "execution_count": 20,
   "metadata": {},
   "outputs": [],
   "source": [
    "def build_confusion_mtx(test_labels_ids, predicted_categories, abbr_categories):\n",
    "\n",
    "    cm = confusion_matrix(test_labels_ids, predicted_categories)\n",
    "    np.set_printoptions(precision=2)\n",
    "    cm_normalized = cm.astype('float') / cm.sum(axis=1)[:, np.newaxis]\n",
    "    plt.figure()\n",
    "    plot_confusion_matrix(cm_normalized, abbr_categories, title='Normalized confusion matrix')\n",
    "\n",
    "    plt.show()"
   ]
  },
  {
   "cell_type": "markdown",
   "metadata": {},
   "source": [
    "Utility function for examining results on some images"
   ]
  },
  {
   "cell_type": "code",
   "execution_count": 21,
   "metadata": {},
   "outputs": [],
   "source": [
    "def examine_induvidual_images(CATEGORIES, test_image_paths, test_labels_ids, predicted_categories_ids, train_labels_paths, train_labels_ids):\n",
    "    \n",
    "    FN_name = [None] * len(CATEGORIES)\n",
    "    TP_name = [None] * len(CATEGORIES)\n",
    "    FP_name = [None] * len(CATEGORIES)\n",
    "    Train_name = [None] * len(CATEGORIES)\n",
    "    \n",
    "    print('Examining some of the results \\n') \n",
    "\n",
    "    for k, name in enumerate(CATEGORIES):\n",
    "        train_id = np.where(np.array(train_labels_ids) == k)[0].tolist()\n",
    "        Train_name[k] = train_labels_paths[train_id[0]]\n",
    "        instance_id = np.where(np.array(test_labels_ids) == k)\n",
    "        instance_id = instance_id[0].tolist()\n",
    "        instance_name = [test_image_paths[x] for x in instance_id]\n",
    "        result = [predicted_categories_ids[x] for x in instance_id]\n",
    "        for sub_id, sub_pred in enumerate(result):\n",
    "            if sub_pred != k:\n",
    "                FN_name[k] = instance_name[sub_id]\n",
    "            elif sub_pred == k:\n",
    "                TP_name[k] = instance_name[sub_id]\n",
    "\n",
    "        pred_instance_id = np.where(np.array(predicted_categories_ids) == k)\n",
    "        pred_instance_id = pred_instance_id[0].tolist()\n",
    "        pred_instance_name = [test_image_paths[x] for x in pred_instance_id]\n",
    "        pred_result = [test_labels_ids[x] for x in pred_instance_id]\n",
    "        for sub_id, sub_pred in enumerate(pred_result):\n",
    "            if sub_pred != k:\n",
    "                FP_name[k] = pred_instance_name[sub_id]\n",
    "        #print( '_train_' + Train_name[k])\n",
    "        print( 'True Positive: ' + TP_name[k])\n",
    "        print( 'False Positive: ' + FP_name[k])\n",
    "        print( 'False Negative: ' + FN_name[k])\n",
    "        print('\\n')\n"
   ]
  },
  {
   "cell_type": "markdown",
   "metadata": {
    "id": "c_KY_XEdyk5Q"
   },
   "source": [
    "Train and test an K-Nearest Neighbour classifier using the Tiny image features "
   ]
  },
  {
   "cell_type": "code",
   "execution_count": 22,
   "metadata": {
    "id": "fie6KjkLZ_mS"
   },
   "outputs": [],
   "source": [
    "predicted_categories = nearest_neighbor_classify(train_image_feats, train_labels, test_image_feats)"
   ]
  },
  {
   "cell_type": "markdown",
   "metadata": {
    "id": "q7Bdb4uCymz6"
   },
   "source": [
    "calculate accuracy of the nearest neighbour classifier using Tiny image features "
   ]
  },
  {
   "cell_type": "code",
   "execution_count": 23,
   "metadata": {
    "colab": {
     "base_uri": "https://localhost:8080/"
    },
    "id": "X39VfhR0yHR-",
    "outputId": "1964135e-2e83-4a76-8ec9-f4ba6b93bb7b"
   },
   "outputs": [
    {
     "name": "stdout",
     "output_type": "stream",
     "text": [
      "Accuracy of the nearest neighbour classifier using Tiny image features is  0.3933333333333333\n"
     ]
    }
   ],
   "source": [
    "accuracy = float(len([x for x in zip(test_labels,predicted_categories) if x[0]== x[1]]))/float(len(test_labels))\n",
    "print(\"Accuracy of the nearest neighbour classifier using Tiny image features is \", accuracy)\n",
    "test_labels_ids = [CATE2ID[x] for x in test_labels]\n",
    "predicted_categories_ids = [CATE2ID[x] for x in predicted_categories]\n",
    "train_labels_ids = [CATE2ID[x] for x in train_labels]"
   ]
  },
  {
   "cell_type": "markdown",
   "metadata": {},
   "source": [
    "plot confusion matrix for this model"
   ]
  },
  {
   "cell_type": "code",
   "execution_count": 24,
   "metadata": {},
   "outputs": [
    {
     "data": {
      "image/png": "[encoded data removed]",
      "text/plain": [
       "<Figure size 432x288 with 2 Axes>"
      ]
     },
     "metadata": {
      "needs_background": "light"
     },
     "output_type": "display_data"
    }
   ],
   "source": [
    "build_confusion_mtx(test_labels_ids, predicted_categories_ids, ABBR_CATEGORIES)"
   ]
  },
  {
   "cell_type": "markdown",
   "metadata": {},
   "source": [
    "Examine the results on some images "
   ]
  },
  {
   "cell_type": "code",
   "execution_count": 25,
   "metadata": {},
   "outputs": [
    {
     "name": "stdout",
     "output_type": "stream",
     "text": [
      "Examining some of the results \n",
      "\n",
      "True Positive: C:\\Users\\white power\\Desktop\\test_python\\SceneDataset\\test\\Kitchen\\963.jpg\n",
      "False Positive: C:\\Users\\white power\\Desktop\\test_python\\SceneDataset\\test\\Mountain\\2723.jpg\n",
      "False Negative: C:\\Users\\white power\\Desktop\\test_python\\SceneDataset\\test\\Kitchen\\968.jpg\n",
      "\n",
      "\n",
      "True Positive: C:\\Users\\white power\\Desktop\\test_python\\SceneDataset\\test\\Bedroom\\197.jpg\n",
      "False Positive: C:\\Users\\white power\\Desktop\\test_python\\SceneDataset\\test\\Mountain\\2708.jpg\n",
      "False Negative: C:\\Users\\white power\\Desktop\\test_python\\SceneDataset\\test\\Bedroom\\200.jpg\n",
      "\n",
      "\n",
      "True Positive: C:\\Users\\white power\\Desktop\\test_python\\SceneDataset\\test\\LivingRoom\\1177.jpg\n",
      "False Positive: C:\\Users\\white power\\Desktop\\test_python\\SceneDataset\\test\\Mountain\\2698.jpg\n",
      "False Negative: C:\\Users\\white power\\Desktop\\test_python\\SceneDataset\\test\\LivingRoom\\1178.jpg\n",
      "\n",
      "\n",
      "True Positive: C:\\Users\\white power\\Desktop\\test_python\\SceneDataset\\test\\Office\\4152.jpg\n",
      "False Positive: C:\\Users\\white power\\Desktop\\test_python\\SceneDataset\\test\\Mountain\\2696.jpg\n",
      "False Negative: C:\\Users\\white power\\Desktop\\test_python\\SceneDataset\\test\\Office\\4155.jpg\n",
      "\n",
      "\n",
      "True Positive: C:\\Users\\white power\\Desktop\\test_python\\SceneDataset\\test\\Highway\\2155.jpg\n",
      "False Positive: C:\\Users\\white power\\Desktop\\test_python\\SceneDataset\\test\\Mountain\\2722.jpg\n",
      "False Negative: C:\\Users\\white power\\Desktop\\test_python\\SceneDataset\\test\\Highway\\2144.jpg\n",
      "\n",
      "\n",
      "True Positive: C:\\Users\\white power\\Desktop\\test_python\\SceneDataset\\test\\Mountain\\2721.jpg\n",
      "False Positive: C:\\Users\\white power\\Desktop\\test_python\\SceneDataset\\test\\Highway\\2144.jpg\n",
      "False Negative: C:\\Users\\white power\\Desktop\\test_python\\SceneDataset\\test\\Mountain\\2723.jpg\n",
      "\n",
      "\n"
     ]
    }
   ],
   "source": [
    "examine_induvidual_images(CATEGORIES, test_image_paths, test_labels_ids, predicted_categories_ids, train_image_paths, train_labels_ids)"
   ]
  },
  {
   "cell_type": "markdown",
   "metadata": {
    "id": "4_26dpMyz9SR"
   },
   "source": [
    "Train and test an SVM classifier using the Tiny image features "
   ]
  },
  {
   "cell_type": "code",
   "execution_count": 26,
   "metadata": {
    "id": "y3TVQDx_yPeC"
   },
   "outputs": [],
   "source": [
    "predicted_categories = svm_classify(train_image_feats, train_labels, test_image_feats)"
   ]
  },
  {
   "cell_type": "markdown",
   "metadata": {
    "id": "ty571Bk70UtW"
   },
   "source": [
    "As we calculate the  accuracy of the nearest neighbour classifier using Tiny image features, now we will calculate the accuracy of the SVM classifier using Tiny image features"
   ]
  },
  {
   "cell_type": "code",
   "execution_count": 27,
   "metadata": {
    "colab": {
     "base_uri": "https://localhost:8080/"
    },
    "id": "Jcw0lHzO0EOd",
    "outputId": "de451a8e-14f8-4096-e16c-0c4ca4fcc6e6"
   },
   "outputs": [
    {
     "name": "stdout",
     "output_type": "stream",
     "text": [
      "Accuracy of the SVM classifier using Tiny image features is  0.41833333333333333\n"
     ]
    }
   ],
   "source": [
    "accuracy = float(len([x for x in zip(test_labels,predicted_categories) if x[0]== x[1]]))/float(len(test_labels))\n",
    "print(\"Accuracy of the SVM classifier using Tiny image features is \", accuracy)\n",
    "test_labels_ids = [CATE2ID[x] for x in test_labels]\n",
    "predicted_categories_ids = [CATE2ID[x] for x in predicted_categories]\n",
    "train_labels_ids = [CATE2ID[x] for x in train_labels]"
   ]
  },
  {
   "cell_type": "markdown",
   "metadata": {},
   "source": [
    "plot confusion matrix for this model"
   ]
  },
  {
   "cell_type": "code",
   "execution_count": 28,
   "metadata": {},
   "outputs": [
    {
     "data": {
      "image/png": "[encoded data removed]",
      "text/plain": [
       "<Figure size 432x288 with 2 Axes>"
      ]
     },
     "metadata": {
      "needs_background": "light"
     },
     "output_type": "display_data"
    }
   ],
   "source": [
    "build_confusion_mtx(test_labels_ids, predicted_categories_ids, ABBR_CATEGORIES)"
   ]
  },
  {
   "cell_type": "markdown",
   "metadata": {},
   "source": [
    "Examine the results on some images "
   ]
  },
  {
   "cell_type": "code",
   "execution_count": 29,
   "metadata": {},
   "outputs": [
    {
     "name": "stdout",
     "output_type": "stream",
     "text": [
      "Examining some of the results \n",
      "\n",
      "True Positive: C:\\Users\\white power\\Desktop\\test_python\\SceneDataset\\test\\Kitchen\\968.jpg\n",
      "False Positive: C:\\Users\\white power\\Desktop\\test_python\\SceneDataset\\test\\Mountain\\2723.jpg\n",
      "False Negative: C:\\Users\\white power\\Desktop\\test_python\\SceneDataset\\test\\Kitchen\\966.jpg\n",
      "\n",
      "\n",
      "True Positive: C:\\Users\\white power\\Desktop\\test_python\\SceneDataset\\test\\Bedroom\\198.jpg\n",
      "False Positive: C:\\Users\\white power\\Desktop\\test_python\\SceneDataset\\test\\Mountain\\2720.jpg\n",
      "False Negative: C:\\Users\\white power\\Desktop\\test_python\\SceneDataset\\test\\Bedroom\\200.jpg\n",
      "\n",
      "\n",
      "True Positive: C:\\Users\\white power\\Desktop\\test_python\\SceneDataset\\test\\LivingRoom\\1176.jpg\n",
      "False Positive: C:\\Users\\white power\\Desktop\\test_python\\SceneDataset\\test\\Mountain\\2722.jpg\n",
      "False Negative: C:\\Users\\white power\\Desktop\\test_python\\SceneDataset\\test\\LivingRoom\\1178.jpg\n",
      "\n",
      "\n",
      "True Positive: C:\\Users\\white power\\Desktop\\test_python\\SceneDataset\\test\\Office\\4154.jpg\n",
      "False Positive: C:\\Users\\white power\\Desktop\\test_python\\SceneDataset\\test\\Mountain\\2706.jpg\n",
      "False Negative: C:\\Users\\white power\\Desktop\\test_python\\SceneDataset\\test\\Office\\4155.jpg\n",
      "\n",
      "\n",
      "True Positive: C:\\Users\\white power\\Desktop\\test_python\\SceneDataset\\test\\Highway\\2153.jpg\n",
      "False Positive: C:\\Users\\white power\\Desktop\\test_python\\SceneDataset\\test\\Mountain\\2714.jpg\n",
      "False Negative: C:\\Users\\white power\\Desktop\\test_python\\SceneDataset\\test\\Highway\\2155.jpg\n",
      "\n",
      "\n",
      "True Positive: C:\\Users\\white power\\Desktop\\test_python\\SceneDataset\\test\\Mountain\\2721.jpg\n",
      "False Positive: C:\\Users\\white power\\Desktop\\test_python\\SceneDataset\\test\\Highway\\2150.jpg\n",
      "False Negative: C:\\Users\\white power\\Desktop\\test_python\\SceneDataset\\test\\Mountain\\2723.jpg\n",
      "\n",
      "\n"
     ]
    }
   ],
   "source": [
    "examine_induvidual_images(CATEGORIES, test_image_paths, test_labels_ids, predicted_categories_ids, train_image_paths, train_labels_ids)"
   ]
  },
  {
   "cell_type": "markdown",
   "metadata": {
    "id": "7eD6yYPF1YVR"
   },
   "source": [
    "In the following, we will assess the performance of the bag of SIFT features using KNN and SVM classifiers. "
   ]
  },
  {
   "cell_type": "markdown",
   "metadata": {
    "id": "-a3sH6CI1rWQ"
   },
   "source": [
    "First, we will extract the SIFT features. "
   ]
  },
  {
   "cell_type": "markdown",
   "metadata": {
    "id": "7wr918JP2jEh"
   },
   "source": [
    "We will use and call SIFT implementaion from the cyvlfeat library. "
   ]
  },
  {
   "cell_type": "code",
   "execution_count": 30,
   "metadata": {
    "colab": {
     "base_uri": "https://localhost:8080/",
     "height": 374
    },
    "id": "4pOUCF5h1vS8",
    "outputId": "53e883a0-c388-4933-a622-e290b3f4a84e"
   },
   "outputs": [],
   "source": [
    "from cyvlfeat.sift.dsift import dsift\n",
    "from cyvlfeat.kmeans import kmeans\n",
    "\n",
    "def build_vocabulary(image_paths, vocab_size):\n",
    "   \n",
    "    bag_of_features = []\n",
    "    \n",
    "    for path in image_paths:\n",
    "        img = np.asarray(Image.open(path),dtype='float32')\n",
    "        frames, descriptors = dsift(img, step=[5,5], fast=True)\n",
    "        bag_of_features.append(descriptors)\n",
    "    bag_of_features = np.concatenate(bag_of_features, axis=0).astype('float32')\n",
    "    vocab = kmeans(bag_of_features, vocab_size, initialization=\"PLUSPLUS\")        \n",
    "\n",
    "    return vocab"
   ]
  },
  {
   "cell_type": "code",
   "execution_count": 31,
   "metadata": {
    "id": "PaNRMFLJ0gb2"
   },
   "outputs": [],
   "source": [
    "vocab_size = 400   ### Vocab_size is up to you. Larger values will work better (to a point) but be slower to comput.\n",
    "vocab = build_vocabulary(train_image_paths, vocab_size)"
   ]
  },
  {
   "cell_type": "code",
   "execution_count": 32,
   "metadata": {},
   "outputs": [],
   "source": [
    "from scipy.spatial import distance\n",
    "import scipy.spatial.distance as distance\n",
    "from cyvlfeat.sift.dsift import dsift\n",
    "\n",
    "def get_bags_of_sifts(image_paths, vocab):\n",
    "    \n",
    "    image_feats = np.zeros((len(train_image_paths),len(vocab)))            \n",
    "    \n",
    "    for i, path in enumerate(image_paths):\n",
    "        \n",
    "        image = np.asarray(Image.open(path), dtype = 'float32')\n",
    "        frames, descriptors = dsift(image, step=[9,9], fast=True)\n",
    "        \n",
    "        dist = distance.cdist(vocab, descriptors, 'euclidean')\n",
    "        mdist = np.argmin(dist, axis = 0)\n",
    "        histo, bins = np.histogram(mdist, range(len(vocab)+1))\n",
    "        if np.linalg.norm(histo) == 0:\n",
    "            image_feats[i, :] = histo\n",
    "        else:\n",
    "            image_feats[i, :] = histo / np.linalg.norm(histo)\n",
    "    return image_feats"
   ]
  },
  {
   "cell_type": "code",
   "execution_count": 33,
   "metadata": {},
   "outputs": [],
   "source": [
    "train_image_feats = get_bags_of_sifts(train_image_paths, vocab);"
   ]
  },
  {
   "cell_type": "code",
   "execution_count": 34,
   "metadata": {},
   "outputs": [],
   "source": [
    "test_image_feats  = get_bags_of_sifts(test_image_paths, vocab);"
   ]
  },
  {
   "cell_type": "markdown",
   "metadata": {},
   "source": [
    "Now, we will use the SIFT features to train and test an SVM classifier "
   ]
  },
  {
   "cell_type": "code",
   "execution_count": 35,
   "metadata": {},
   "outputs": [],
   "source": [
    "predicted_categories = svm_classify(train_image_feats, train_labels, test_image_feats)"
   ]
  },
  {
   "cell_type": "markdown",
   "metadata": {},
   "source": [
    "Similar to the previous sections, we will report the accuracy of the SVM classifier using the SIFT features in the following."
   ]
  },
  {
   "cell_type": "code",
   "execution_count": 36,
   "metadata": {},
   "outputs": [
    {
     "name": "stdout",
     "output_type": "stream",
     "text": [
      "Accuracy of the SVM classifier using SIFT features is  0.6816666666666666\n"
     ]
    }
   ],
   "source": [
    "accuracy = float(len([x for x in zip(test_labels,predicted_categories) if x[0]== x[1]]))/float(len(test_labels))\n",
    "print(\"Accuracy of the SVM classifier using SIFT features is \", accuracy)\n",
    "test_labels_ids = [CATE2ID[x] for x in test_labels]\n",
    "predicted_categories_ids = [CATE2ID[x] for x in predicted_categories]\n",
    "train_labels_ids = [CATE2ID[x] for x in train_labels]"
   ]
  },
  {
   "cell_type": "markdown",
   "metadata": {},
   "source": [
    "plot confusion matrix for this model"
   ]
  },
  {
   "cell_type": "code",
   "execution_count": 37,
   "metadata": {},
   "outputs": [
    {
     "data": {
      "image/png": "[encoded data removed]",
      "text/plain": [
       "<Figure size 432x288 with 2 Axes>"
      ]
     },
     "metadata": {
      "needs_background": "light"
     },
     "output_type": "display_data"
    }
   ],
   "source": [
    "build_confusion_mtx(test_labels_ids, predicted_categories_ids, ABBR_CATEGORIES)"
   ]
  },
  {
   "cell_type": "markdown",
   "metadata": {},
   "source": [
    "Examine the results on some images "
   ]
  },
  {
   "cell_type": "code",
   "execution_count": 38,
   "metadata": {},
   "outputs": [
    {
     "name": "stdout",
     "output_type": "stream",
     "text": [
      "Examining some of the results \n",
      "\n",
      "True Positive: C:\\Users\\white power\\Desktop\\test_python\\SceneDataset\\test\\Kitchen\\967.jpg\n",
      "False Positive: C:\\Users\\white power\\Desktop\\test_python\\SceneDataset\\test\\Office\\4155.jpg\n",
      "False Negative: C:\\Users\\white power\\Desktop\\test_python\\SceneDataset\\test\\Kitchen\\968.jpg\n",
      "\n",
      "\n",
      "True Positive: C:\\Users\\white power\\Desktop\\test_python\\SceneDataset\\test\\Bedroom\\196.jpg\n",
      "False Positive: C:\\Users\\white power\\Desktop\\test_python\\SceneDataset\\test\\Mountain\\2669.jpg\n",
      "False Negative: C:\\Users\\white power\\Desktop\\test_python\\SceneDataset\\test\\Bedroom\\200.jpg\n",
      "\n",
      "\n",
      "True Positive: C:\\Users\\white power\\Desktop\\test_python\\SceneDataset\\test\\LivingRoom\\1177.jpg\n",
      "False Positive: C:\\Users\\white power\\Desktop\\test_python\\SceneDataset\\test\\Highway\\2124.jpg\n",
      "False Negative: C:\\Users\\white power\\Desktop\\test_python\\SceneDataset\\test\\LivingRoom\\1178.jpg\n",
      "\n",
      "\n",
      "True Positive: C:\\Users\\white power\\Desktop\\test_python\\SceneDataset\\test\\Office\\4154.jpg\n",
      "False Positive: C:\\Users\\white power\\Desktop\\test_python\\SceneDataset\\test\\LivingRoom\\1157.jpg\n",
      "False Negative: C:\\Users\\white power\\Desktop\\test_python\\SceneDataset\\test\\Office\\4155.jpg\n",
      "\n",
      "\n",
      "True Positive: C:\\Users\\white power\\Desktop\\test_python\\SceneDataset\\test\\Highway\\2155.jpg\n",
      "False Positive: C:\\Users\\white power\\Desktop\\test_python\\SceneDataset\\test\\Mountain\\2714.jpg\n",
      "False Negative: C:\\Users\\white power\\Desktop\\test_python\\SceneDataset\\test\\Highway\\2150.jpg\n",
      "\n",
      "\n",
      "True Positive: C:\\Users\\white power\\Desktop\\test_python\\SceneDataset\\test\\Mountain\\2723.jpg\n",
      "False Positive: C:\\Users\\white power\\Desktop\\test_python\\SceneDataset\\test\\Highway\\2150.jpg\n",
      "False Negative: C:\\Users\\white power\\Desktop\\test_python\\SceneDataset\\test\\Mountain\\2714.jpg\n",
      "\n",
      "\n"
     ]
    }
   ],
   "source": [
    "examine_induvidual_images(CATEGORIES, test_image_paths, test_labels_ids, predicted_categories_ids, train_image_paths, train_labels_ids)"
   ]
  },
  {
   "cell_type": "markdown",
   "metadata": {},
   "source": [
    "Finally, we will use the SIFT features in the  KNN classifier "
   ]
  },
  {
   "cell_type": "code",
   "execution_count": 39,
   "metadata": {},
   "outputs": [],
   "source": [
    "predicted_categories = nearest_neighbor_classify(train_image_feats, train_labels, test_image_feats)"
   ]
  },
  {
   "cell_type": "markdown",
   "metadata": {},
   "source": [
    "Similar to the previous sections, we will report the accuracy of the KNN clasifier using the SIFT features in the following. "
   ]
  },
  {
   "cell_type": "code",
   "execution_count": 40,
   "metadata": {},
   "outputs": [
    {
     "name": "stdout",
     "output_type": "stream",
     "text": [
      "Accuracy of the KNN classifier using SIFT features is  0.6\n"
     ]
    }
   ],
   "source": [
    "accuracy = float(len([x for x in zip(test_labels,predicted_categories) if x[0]== x[1]]))/float(len(test_labels))\n",
    "print(\"Accuracy of the KNN classifier using SIFT features is \", accuracy)\n",
    "test_labels_ids = [CATE2ID[x] for x in test_labels]\n",
    "predicted_categories_ids = [CATE2ID[x] for x in predicted_categories]\n",
    "train_labels_ids = [CATE2ID[x] for x in train_labels]"
   ]
  },
  {
   "cell_type": "markdown",
   "metadata": {},
   "source": [
    "plot confusion matrix for this model"
   ]
  },
  {
   "cell_type": "code",
   "execution_count": 41,
   "metadata": {},
   "outputs": [
    {
     "data": {
      "image/png": "[encoded data removed]",
      "text/plain": [
       "<Figure size 432x288 with 2 Axes>"
      ]
     },
     "metadata": {
      "needs_background": "light"
     },
     "output_type": "display_data"
    }
   ],
   "source": [
    "build_confusion_mtx(test_labels_ids, predicted_categories_ids, ABBR_CATEGORIES)"
   ]
  },
  {
   "cell_type": "markdown",
   "metadata": {},
   "source": [
    "Examine the results on some images "
   ]
  },
  {
   "cell_type": "code",
   "execution_count": 42,
   "metadata": {},
   "outputs": [
    {
     "name": "stdout",
     "output_type": "stream",
     "text": [
      "Examining some of the results \n",
      "\n",
      "True Positive: C:\\Users\\white power\\Desktop\\test_python\\SceneDataset\\test\\Kitchen\\967.jpg\n",
      "False Positive: C:\\Users\\white power\\Desktop\\test_python\\SceneDataset\\test\\Office\\4131.jpg\n",
      "False Negative: C:\\Users\\white power\\Desktop\\test_python\\SceneDataset\\test\\Kitchen\\968.jpg\n",
      "\n",
      "\n",
      "True Positive: C:\\Users\\white power\\Desktop\\test_python\\SceneDataset\\test\\Bedroom\\196.jpg\n",
      "False Positive: C:\\Users\\white power\\Desktop\\test_python\\SceneDataset\\test\\LivingRoom\\1147.jpg\n",
      "False Negative: C:\\Users\\white power\\Desktop\\test_python\\SceneDataset\\test\\Bedroom\\200.jpg\n",
      "\n",
      "\n",
      "True Positive: C:\\Users\\white power\\Desktop\\test_python\\SceneDataset\\test\\LivingRoom\\1177.jpg\n",
      "False Positive: C:\\Users\\white power\\Desktop\\test_python\\SceneDataset\\test\\Highway\\2124.jpg\n",
      "False Negative: C:\\Users\\white power\\Desktop\\test_python\\SceneDataset\\test\\LivingRoom\\1178.jpg\n",
      "\n",
      "\n",
      "True Positive: C:\\Users\\white power\\Desktop\\test_python\\SceneDataset\\test\\Office\\4155.jpg\n",
      "False Positive: C:\\Users\\white power\\Desktop\\test_python\\SceneDataset\\test\\LivingRoom\\1178.jpg\n",
      "False Negative: C:\\Users\\white power\\Desktop\\test_python\\SceneDataset\\test\\Office\\4131.jpg\n",
      "\n",
      "\n",
      "True Positive: C:\\Users\\white power\\Desktop\\test_python\\SceneDataset\\test\\Highway\\2154.jpg\n",
      "False Positive: C:\\Users\\white power\\Desktop\\test_python\\SceneDataset\\test\\Mountain\\2696.jpg\n",
      "False Negative: C:\\Users\\white power\\Desktop\\test_python\\SceneDataset\\test\\Highway\\2155.jpg\n",
      "\n",
      "\n",
      "True Positive: C:\\Users\\white power\\Desktop\\test_python\\SceneDataset\\test\\Mountain\\2723.jpg\n",
      "False Positive: C:\\Users\\white power\\Desktop\\test_python\\SceneDataset\\test\\Highway\\2155.jpg\n",
      "False Negative: C:\\Users\\white power\\Desktop\\test_python\\SceneDataset\\test\\Mountain\\2696.jpg\n",
      "\n",
      "\n"
     ]
    }
   ],
   "source": [
    "examine_induvidual_images(CATEGORIES, test_image_paths, test_labels_ids, predicted_categories_ids, train_image_paths, train_labels_ids)"
   ]
  }
 ],
 "metadata": {
  "colab": {
   "collapsed_sections": [],
   "name": "Computer_Vision_HW2.ipynb",
   "provenance": []
  },
  "kernelspec": {
   "display_name": "Python 3",
   "language": "python",
   "name": "python3"
  },
  "language_info": {
   "codemirror_mode": {
    "name": "ipython",
    "version": 3
   },
   "file_extension": ".py",
   "mimetype": "text/x-python",
   "name": "python",
   "nbconvert_exporter": "python",
   "pygments_lexer": "ipython3",
   "version": "3.6.13"
  }
 },
 "nbformat": 4,
 "nbformat_minor": 1
}
